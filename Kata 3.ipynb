{
 "cells": [
  {
   "cell_type": "markdown",
   "metadata": {},
   "source": [
    "Kata 3"
   ]
  },
  {
   "cell_type": "code",
   "execution_count": 2,
   "metadata": {},
   "outputs": [
    {
     "name": "stdout",
     "output_type": "stream",
     "text": [
      "El meteorito se acerca\n"
     ]
    }
   ],
   "source": [
    "velocidad_meteorito = 49\n",
    "if velocidad_meteorito > 25:\n",
    "    print(\"El meteorito se acerca\")"
   ]
  },
  {
   "cell_type": "code",
   "execution_count": 5,
   "metadata": {},
   "outputs": [
    {
     "name": "stdout",
     "output_type": "stream",
     "text": [
      "Es visible la estela de luz\n"
     ]
    }
   ],
   "source": [
    "velocidad_meteorito = 20\n",
    "if velocidad_meteorito >= 20:\n",
    "    print(\"Es visible la estela de luz\")\n",
    "else:\n",
    "    print(\"No se ve nada\")"
   ]
  },
  {
   "cell_type": "code",
   "execution_count": null,
   "metadata": {},
   "outputs": [],
   "source": [
    "tamanioAsteroide = 25\n",
    "velocidadAsteoride = 20\n",
    "if velocidad_meteorito > 20 and  tamanioAsteroide > 25:\n",
    "    print(\"El meteorito se acerca\")\n",
    "elif velocidad_meteorito >= 20:\n",
    "    print(\"Es visible la estela de luz\")\n",
    "else:\n",
    "    print(\"No es visible la estela de luz\")"
   ]
  }
 ],
 "metadata": {
  "interpreter": {
   "hash": "356427ce74bea923f4cb9ce0214b852da157c76f3187be5c0b3e05165cbf3b5e"
  },
  "kernelspec": {
   "display_name": "Python 3.10.2 64-bit",
   "language": "python",
   "name": "python3"
  },
  "language_info": {
   "codemirror_mode": {
    "name": "ipython",
    "version": 3
   },
   "file_extension": ".py",
   "mimetype": "text/x-python",
   "name": "python",
   "nbconvert_exporter": "python",
   "pygments_lexer": "ipython3",
   "version": "3.10.2"
  },
  "orig_nbformat": 4
 },
 "nbformat": 4,
 "nbformat_minor": 2
}
